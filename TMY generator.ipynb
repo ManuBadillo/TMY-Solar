{
 "cells": [
  {
   "cell_type": "markdown",
   "metadata": {},
   "source": [
    "### 1. Input data"
   ]
  },
  {
   "cell_type": "markdown",
   "metadata": {},
   "source": [
    "The data must be exported from Windographer.\n",
    "\n",
    "Data must have gone through the process of QC, LT adjustment and gap filling.\n",
    "\n",
    "To avoid errors, the labels in Windographer must follow the naming convention adopted by SolarGIS: GHI, DNI, DIF, flagR, SE, SA, TEMP, AP, RH, WS, WD and PWAT.\n",
    "\n",
    "The columns \"Type\" in windographer must be: \"Other\" and the columns Units must be empty.\n",
    "\n",
    "Finally we must export the data as a text file considering: the time stamp must be \"Hourly\",Date format: YYYYMMDD, Time format: HH:MM, Time stamps indicate: we must play with the different options to get the time stamp in the middle of the hour (ie 00:30).\n",
    "    \n",
    "Please follow this naming convention \"YYYYMMDD-SiteName-DataSource-HourlyLTSeries.txt\". This file must be uploaded the folder where this notebook is located.\n",
    "\n",
    "\n",
    "    "
   ]
  },
  {
   "cell_type": "markdown",
   "metadata": {},
   "source": [
    "### 2. Import data"
   ]
  },
  {
   "cell_type": "markdown",
   "metadata": {},
   "source": [
    "The long term hourly time series is now imported to this notebook."
   ]
  },
  {
   "cell_type": "code",
   "execution_count": 1,
   "metadata": {},
   "outputs": [],
   "source": [
    "import pandas as pd\n",
    "import datetime as dt\n",
    "import csv\n",
    "\n",
    "\n"
   ]
  },
  {
   "cell_type": "code",
   "execution_count": 2,
   "metadata": {},
   "outputs": [],
   "source": [
    "# insert site name\n",
    "siteName='Irene'\n",
    "\n",
    "# insert the neame of the windog export file between the red commas\n",
    "windogFile = pd.read_csv('20201110-Irene-SolarGIS-HourlyLTSeries.txt', skiprows=12, sep='\\t')\n",
    "\n",
    "#delete Unnamed column\n",
    "del windogFile['Unnamed: 13']\n",
    "\n",
    "# add year and month columns\n",
    "windogFile['Year']= pd.DatetimeIndex(windogFile['Date/Time']).year\n",
    "windogFile['Month']= pd.DatetimeIndex(windogFile['Date/Time']).month\n",
    "\n",
    "#function to identify leap years\n",
    "\n",
    "def leap_year(year):\n",
    "    if year%4 == 0:\n",
    "        return True\n",
    "    else:\n",
    "        return False\n",
    "\n",
    "#add leap Year tag column\n",
    "windogFile['Leap']= windogFile['Year'].apply(leap_year)\n",
    "\n",
    "#windogFile.head(15)"
   ]
  },
  {
   "cell_type": "markdown",
   "metadata": {},
   "source": [
    "### Obtain GHI monthly sums and check for full months"
   ]
  },
  {
   "cell_type": "code",
   "execution_count": 3,
   "metadata": {},
   "outputs": [],
   "source": [
    "firstSum=windogFile.groupby(['Year','Month']).sum()\n",
    "firstSum=firstSum.drop(columns='Leap')\n",
    "firstSum=firstSum.reset_index(level=[0,1])\n",
    "\n",
    "#count the hours in a month\n",
    "firstCount=windogFile.groupby(['Year','Month']).count()\n",
    "firstCount=firstCount[firstCount.columns[:1]]\n",
    "firstCount.columns=['Total hours']\n",
    "#revert multi-Index to single index Data Frame\n",
    "firstCount=firstCount.reset_index(level=[0,1])\n",
    "\n",
    "# number of hours in a non leap year\n",
    "\n",
    "nonLeapYear = pd.DataFrame({'Month':[1,2,3,4,5,6,7,8,9,10,11,12],\n",
    "                           'Total hours':[744,672,744,720,744,720,744,744,720,744,720,744]})\n",
    "\n",
    "\n",
    "#identify full months\n",
    "def full_month(month, hours):\n",
    "    if hours == nonLeapYear.loc[[month-1],'Total hours'].iloc[0]:\n",
    "        return True\n",
    "    else:\n",
    "        return False\n",
    "    \n",
    "firstCount['Full month']= firstCount.apply(lambda x: full_month(x['Month'], x['Total hours']), axis=1)\n",
    "\n",
    "firstSum['Total hours']=firstCount['Total hours']\n",
    "\n",
    "firstSum['Full month']=firstCount['Full month']"
   ]
  },
  {
   "cell_type": "markdown",
   "metadata": {},
   "source": [
    "### Obtain the GHI Mean of monthly means"
   ]
  },
  {
   "cell_type": "code",
   "execution_count": 4,
   "metadata": {},
   "outputs": [],
   "source": [
    "noGapData=firstSum[firstSum['Full month']==True]\n",
    "#MOMM GHI\n",
    "firstAve=noGapData.groupby(['Month']).mean()\n",
    "firstAve=firstAve.reset_index()\n",
    "firstAve=firstAve[['Month','GHI']]\n",
    "#MOMM DNI\n",
    "secondAve=noGapData.groupby(['Month']).mean()\n",
    "secondAve=secondAve.reset_index()\n",
    "secondAve=secondAve[['Month','DNI']]"
   ]
  },
  {
   "cell_type": "markdown",
   "metadata": {},
   "source": [
    "### Add mean GHI bias column"
   ]
  },
  {
   "cell_type": "code",
   "execution_count": 5,
   "metadata": {},
   "outputs": [
    {
     "name": "stderr",
     "output_type": "stream",
     "text": [
      "C:\\Users\\Manuel.badillo\\AppData\\Local\\Continuum\\anaconda3\\lib\\site-packages\\ipykernel_launcher.py:3: SettingWithCopyWarning: \n",
      "A value is trying to be set on a copy of a slice from a DataFrame.\n",
      "Try using .loc[row_indexer,col_indexer] = value instead\n",
      "\n",
      "See the caveats in the documentation: http://pandas.pydata.org/pandas-docs/stable/indexing.html#indexing-view-versus-copy\n",
      "  This is separate from the ipykernel package so we can avoid doing imports until\n"
     ]
    }
   ],
   "source": [
    "#GHI monthly bias\n",
    "biasTable=noGapData[['Year','Month','GHI']]\n",
    "biasTable['Bias']=abs(1-biasTable['GHI']/biasTable['Month'].map(firstAve.set_index('Month')['GHI']))\n",
    "tmyYears=biasTable.sort_values('Bias').drop_duplicates('Month')\n",
    "tmyYears=tmyYears.sort_values('Month')\n",
    "tmyYears=tmyYears[['Month','Year']]"
   ]
  },
  {
   "cell_type": "markdown",
   "metadata": {},
   "source": [
    "### Add mean DNI bias column"
   ]
  },
  {
   "cell_type": "code",
   "execution_count": 6,
   "metadata": {},
   "outputs": [
    {
     "name": "stderr",
     "output_type": "stream",
     "text": [
      "C:\\Users\\Manuel.badillo\\AppData\\Local\\Continuum\\anaconda3\\lib\\site-packages\\ipykernel_launcher.py:3: SettingWithCopyWarning: \n",
      "A value is trying to be set on a copy of a slice from a DataFrame.\n",
      "Try using .loc[row_indexer,col_indexer] = value instead\n",
      "\n",
      "See the caveats in the documentation: http://pandas.pydata.org/pandas-docs/stable/indexing.html#indexing-view-versus-copy\n",
      "  This is separate from the ipykernel package so we can avoid doing imports until\n"
     ]
    }
   ],
   "source": [
    "#DNI monthly bias\n",
    "biasTable2=noGapData[['Year','Month','DNI']]\n",
    "biasTable2['Bias']=abs(1-biasTable2['DNI']/biasTable2['Month'].map(secondAve.set_index('Month')['DNI']))\n",
    "#biasTable2.head(5)\n",
    "tmyYears2=biasTable2.sort_values('Bias').drop_duplicates('Month')\n",
    "tmyYears2=tmyYears2.sort_values('Month')\n",
    "tmyYears2=tmyYears2[['Month','Year']]"
   ]
  },
  {
   "cell_type": "markdown",
   "metadata": {},
   "source": [
    "### Add combined bias column"
   ]
  },
  {
   "cell_type": "markdown",
   "metadata": {},
   "source": [
    "The below values in green, can be modified to assign different weights to the GHI bias and the DNI bias. The sum of both values below must be <=1."
   ]
  },
  {
   "cell_type": "code",
   "execution_count": 7,
   "metadata": {},
   "outputs": [
    {
     "name": "stderr",
     "output_type": "stream",
     "text": [
      "C:\\Users\\Manuel.badillo\\AppData\\Local\\Continuum\\anaconda3\\lib\\site-packages\\ipykernel_launcher.py:2: SettingWithCopyWarning: \n",
      "A value is trying to be set on a copy of a slice from a DataFrame.\n",
      "Try using .loc[row_indexer,col_indexer] = value instead\n",
      "\n",
      "See the caveats in the documentation: http://pandas.pydata.org/pandas-docs/stable/indexing.html#indexing-view-versus-copy\n",
      "  \n"
     ]
    }
   ],
   "source": [
    "totalBias=biasTable[['Year','Month']]\n",
    "totalBias['Total bias']=0.23*biasTable['Bias']+0.7*biasTable2['Bias']\n",
    "#totalBias"
   ]
  },
  {
   "cell_type": "markdown",
   "metadata": {},
   "source": [
    "### TMY year/month selection"
   ]
  },
  {
   "cell_type": "code",
   "execution_count": 8,
   "metadata": {},
   "outputs": [
    {
     "data": {
      "text/html": [
       "<div>\n",
       "<style scoped>\n",
       "    .dataframe tbody tr th:only-of-type {\n",
       "        vertical-align: middle;\n",
       "    }\n",
       "\n",
       "    .dataframe tbody tr th {\n",
       "        vertical-align: top;\n",
       "    }\n",
       "\n",
       "    .dataframe thead th {\n",
       "        text-align: right;\n",
       "    }\n",
       "</style>\n",
       "<table border=\"1\" class=\"dataframe\">\n",
       "  <thead>\n",
       "    <tr style=\"text-align: right;\">\n",
       "      <th></th>\n",
       "      <th>Year</th>\n",
       "    </tr>\n",
       "    <tr>\n",
       "      <th>Month</th>\n",
       "      <th></th>\n",
       "    </tr>\n",
       "  </thead>\n",
       "  <tbody>\n",
       "    <tr>\n",
       "      <th>1</th>\n",
       "      <td>2014</td>\n",
       "    </tr>\n",
       "    <tr>\n",
       "      <th>2</th>\n",
       "      <td>2010</td>\n",
       "    </tr>\n",
       "    <tr>\n",
       "      <th>3</th>\n",
       "      <td>2001</td>\n",
       "    </tr>\n",
       "    <tr>\n",
       "      <th>4</th>\n",
       "      <td>2005</td>\n",
       "    </tr>\n",
       "    <tr>\n",
       "      <th>5</th>\n",
       "      <td>2006</td>\n",
       "    </tr>\n",
       "    <tr>\n",
       "      <th>6</th>\n",
       "      <td>2005</td>\n",
       "    </tr>\n",
       "    <tr>\n",
       "      <th>7</th>\n",
       "      <td>2001</td>\n",
       "    </tr>\n",
       "    <tr>\n",
       "      <th>8</th>\n",
       "      <td>1996</td>\n",
       "    </tr>\n",
       "    <tr>\n",
       "      <th>9</th>\n",
       "      <td>1998</td>\n",
       "    </tr>\n",
       "    <tr>\n",
       "      <th>10</th>\n",
       "      <td>2002</td>\n",
       "    </tr>\n",
       "    <tr>\n",
       "      <th>11</th>\n",
       "      <td>2008</td>\n",
       "    </tr>\n",
       "    <tr>\n",
       "      <th>12</th>\n",
       "      <td>2016</td>\n",
       "    </tr>\n",
       "  </tbody>\n",
       "</table>\n",
       "</div>"
      ],
      "text/plain": [
       "       Year\n",
       "Month      \n",
       "1      2014\n",
       "2      2010\n",
       "3      2001\n",
       "4      2005\n",
       "5      2006\n",
       "6      2005\n",
       "7      2001\n",
       "8      1996\n",
       "9      1998\n",
       "10     2002\n",
       "11     2008\n",
       "12     2016"
      ]
     },
     "execution_count": 8,
     "metadata": {},
     "output_type": "execute_result"
    }
   ],
   "source": [
    "tmyYears3=totalBias.sort_values('Total bias').drop_duplicates('Month')\n",
    "tmyYears3=tmyYears3.sort_values('Month')\n",
    "tmyYears3=tmyYears3[['Month','Year']]\n",
    "tmyYears3=tmyYears3.set_index('Month')\n",
    "tmyYears3"
   ]
  },
  {
   "cell_type": "markdown",
   "metadata": {},
   "source": [
    "### TMY file generation"
   ]
  },
  {
   "cell_type": "code",
   "execution_count": 9,
   "metadata": {},
   "outputs": [
    {
     "name": "stdout",
     "output_type": "stream",
     "text": [
      "The file Irene-TMY.csv has been created in the folder that contains this notebook\n"
     ]
    },
    {
     "name": "stderr",
     "output_type": "stream",
     "text": [
      "C:\\Users\\Manuel.badillo\\AppData\\Local\\Continuum\\anaconda3\\lib\\site-packages\\ipykernel_launcher.py:11: SettingWithCopyWarning: \n",
      "A value is trying to be set on a copy of a slice from a DataFrame.\n",
      "Try using .loc[row_indexer,col_indexer] = value instead\n",
      "\n",
      "See the caveats in the documentation: http://pandas.pydata.org/pandas-docs/stable/indexing.html#indexing-view-versus-copy\n",
      "  # This is added back by InteractiveShellApp.init_path()\n",
      "C:\\Users\\Manuel.badillo\\AppData\\Local\\Continuum\\anaconda3\\lib\\site-packages\\ipykernel_launcher.py:12: SettingWithCopyWarning: \n",
      "A value is trying to be set on a copy of a slice from a DataFrame.\n",
      "Try using .loc[row_indexer,col_indexer] = value instead\n",
      "\n",
      "See the caveats in the documentation: http://pandas.pydata.org/pandas-docs/stable/indexing.html#indexing-view-versus-copy\n",
      "  if sys.path[0] == '':\n"
     ]
    }
   ],
   "source": [
    "def tmy(month, year):\n",
    "    if year == tmyYears3.loc[[month],'Year'].iloc[0]:\n",
    "        return True\n",
    "    else:\n",
    "        return False\n",
    "    \n",
    "windogFile['TMY']= windogFile.apply(lambda x: tmy(x['Month'], x['Year']), axis=1)\n",
    "\n",
    "#replace the real year by 1990, a standard non-leap year\n",
    "tmy=windogFile.loc[windogFile['TMY'] == True]\n",
    "tmy['Date/Time']= pd.DatetimeIndex(tmy['Date/Time'])\n",
    "tmy[\"Date/Time\"]=tmy[\"Date/Time\"].map(lambda x: x.replace(year=1990))\n",
    "\n",
    "tmy=tmy.sort_values(by=['Date/Time'])\n",
    "\n",
    "\n",
    "#Creates empty csv file\n",
    "\n",
    "fileName=siteName+'-TMY.csv'\n",
    "\n",
    "\n",
    "#add available data to csv file\n",
    "\n",
    "tmy.to_csv(fileName, mode='a', sep=';',index=False)\n",
    "\n",
    "print('The file %s has been created in the folder that contains this notebook' %(fileName))"
   ]
  }
 ],
 "metadata": {
  "kernelspec": {
   "display_name": "Python 3",
   "language": "python",
   "name": "python3"
  },
  "language_info": {
   "codemirror_mode": {
    "name": "ipython",
    "version": 3
   },
   "file_extension": ".py",
   "mimetype": "text/x-python",
   "name": "python",
   "nbconvert_exporter": "python",
   "pygments_lexer": "ipython3",
   "version": "3.7.3"
  }
 },
 "nbformat": 4,
 "nbformat_minor": 2
}
